{
  "cells": [
    {
      "cell_type": "markdown",
      "metadata": {
        "id": "KMacaJ9bCWbY"
      },
      "source": [
        "<div dir=\"rtl\" align=\"center\">\n",
        "    <h2><strong> HW2: Avoid overfitting through Validation Set </strong></h2>\n",
        "</div>"
      ]
    },
    {
      "cell_type": "markdown",
      "source": [
        "Sepehr Moniri -- 981813205"
      ],
      "metadata": {
        "id": "9kaQ87OZEtnX"
      }
    },
    {
      "cell_type": "code",
      "execution_count": 1,
      "metadata": {
        "id": "FVpt5nNPCWbZ"
      },
      "outputs": [],
      "source": [
        "import torch\n",
        "import torch.nn as nn\n",
        "import torch.optim as optim\n",
        "from matplotlib import pyplot as plt\n",
        "from torch.utils.data import DataLoader\n",
        "from torchvision import datasets, transforms\n",
        "import numpy as np"
      ]
    },
    {
      "cell_type": "markdown",
      "metadata": {
        "id": "_HA91orGCWba"
      },
      "source": [
        "### **Load train and test FasionMNIST dataset**"
      ]
    },
    {
      "cell_type": "code",
      "execution_count": 2,
      "metadata": {
        "id": "w4nO-yaLCWba",
        "colab": {
          "base_uri": "https://localhost:8080/"
        },
        "outputId": "1cde78c0-1a5c-434a-a35a-17d2154d14e4"
      },
      "outputs": [
        {
          "output_type": "stream",
          "name": "stdout",
          "text": [
            "Downloading http://fashion-mnist.s3-website.eu-central-1.amazonaws.com/train-images-idx3-ubyte.gz\n",
            "Downloading http://fashion-mnist.s3-website.eu-central-1.amazonaws.com/train-images-idx3-ubyte.gz to ./data/F_MNIST_data/FashionMNIST/raw/train-images-idx3-ubyte.gz\n"
          ]
        },
        {
          "output_type": "stream",
          "name": "stderr",
          "text": [
            "100%|██████████| 26421880/26421880 [00:02<00:00, 11199534.34it/s]\n"
          ]
        },
        {
          "output_type": "stream",
          "name": "stdout",
          "text": [
            "Extracting ./data/F_MNIST_data/FashionMNIST/raw/train-images-idx3-ubyte.gz to ./data/F_MNIST_data/FashionMNIST/raw\n",
            "\n",
            "Downloading http://fashion-mnist.s3-website.eu-central-1.amazonaws.com/train-labels-idx1-ubyte.gz\n",
            "Downloading http://fashion-mnist.s3-website.eu-central-1.amazonaws.com/train-labels-idx1-ubyte.gz to ./data/F_MNIST_data/FashionMNIST/raw/train-labels-idx1-ubyte.gz\n"
          ]
        },
        {
          "output_type": "stream",
          "name": "stderr",
          "text": [
            "100%|██████████| 29515/29515 [00:00<00:00, 202701.85it/s]\n"
          ]
        },
        {
          "output_type": "stream",
          "name": "stdout",
          "text": [
            "Extracting ./data/F_MNIST_data/FashionMNIST/raw/train-labels-idx1-ubyte.gz to ./data/F_MNIST_data/FashionMNIST/raw\n",
            "\n",
            "Downloading http://fashion-mnist.s3-website.eu-central-1.amazonaws.com/t10k-images-idx3-ubyte.gz\n",
            "Downloading http://fashion-mnist.s3-website.eu-central-1.amazonaws.com/t10k-images-idx3-ubyte.gz to ./data/F_MNIST_data/FashionMNIST/raw/t10k-images-idx3-ubyte.gz\n"
          ]
        },
        {
          "output_type": "stream",
          "name": "stderr",
          "text": [
            "100%|██████████| 4422102/4422102 [00:01<00:00, 3735722.16it/s]\n"
          ]
        },
        {
          "output_type": "stream",
          "name": "stdout",
          "text": [
            "Extracting ./data/F_MNIST_data/FashionMNIST/raw/t10k-images-idx3-ubyte.gz to ./data/F_MNIST_data/FashionMNIST/raw\n",
            "\n",
            "Downloading http://fashion-mnist.s3-website.eu-central-1.amazonaws.com/t10k-labels-idx1-ubyte.gz\n",
            "Downloading http://fashion-mnist.s3-website.eu-central-1.amazonaws.com/t10k-labels-idx1-ubyte.gz to ./data/F_MNIST_data/FashionMNIST/raw/t10k-labels-idx1-ubyte.gz\n"
          ]
        },
        {
          "output_type": "stream",
          "name": "stderr",
          "text": [
            "100%|██████████| 5148/5148 [00:00<00:00, 4709329.77it/s]\n"
          ]
        },
        {
          "output_type": "stream",
          "name": "stdout",
          "text": [
            "Extracting ./data/F_MNIST_data/FashionMNIST/raw/t10k-labels-idx1-ubyte.gz to ./data/F_MNIST_data/FashionMNIST/raw\n",
            "\n"
          ]
        }
      ],
      "source": [
        "transform = transforms.Compose([\n",
        "    transforms.ToTensor(),\n",
        "    transforms.Normalize((0.5,), (0.5,))\n",
        "])\n",
        "\n",
        "trainset = datasets.FashionMNIST(\n",
        "    root='./data/F_MNIST_data/',\n",
        "    download=True,\n",
        "    train=True,\n",
        "    transform=transform\n",
        ")\n",
        "\n",
        "testset = datasets.FashionMNIST(\n",
        "    root='./data/F_MNIST_data/',\n",
        "    download=True,\n",
        "    train=False,\n",
        "    transform=transform\n",
        ")\n",
        "\n",
        "# TODO: COMPLETE THIS CODE\n",
        "BATCH_SIZE = 64\n",
        "\n",
        "trainloader = DataLoader(\n",
        "    dataset=trainset,\n",
        "    batch_size=BATCH_SIZE,\n",
        "    shuffle=True,\n",
        ")\n",
        "\n",
        "testloader = DataLoader(\n",
        "    dataset=testset,\n",
        "    batch_size=BATCH_SIZE,\n",
        "    shuffle=True,\n",
        ")"
      ]
    },
    {
      "cell_type": "markdown",
      "metadata": {
        "id": "rEFmaA_OCWba"
      },
      "source": [
        "### **Construct Neural Network Regularized Model**"
      ]
    },
    {
      "cell_type": "code",
      "execution_count": 3,
      "metadata": {
        "id": "9jeUkRqECWba"
      },
      "outputs": [],
      "source": [
        "class Net(torch.nn.Module):\n",
        "    def __init__(self):\n",
        "        super().__init__()\n",
        "        # TODO: COMPLETE THIS CODE\n",
        "        self.fc1 = nn.Linear(28 * 28, 256)\n",
        "        self.fc2 = nn.Linear(256, 128)\n",
        "        self.fc3 = nn.Linear(128, 10)\n",
        "        self.dropout = nn.Dropout(0.5)\n",
        "\n",
        "    def forward(self, x):\n",
        "        # TODO: COMPLETE THIS CODE\n",
        "        x = x.view(-1, 28 * 28)\n",
        "        x = torch.relu(self.fc1(x))\n",
        "        x = self.dropout(x)\n",
        "        x = torch.relu(self.fc2(x))\n",
        "        x = self.dropout(x)\n",
        "        x = self.fc3(x)\n",
        "\n",
        "        return x"
      ]
    },
    {
      "cell_type": "markdown",
      "metadata": {
        "id": "wfP9mfD7CWbb"
      },
      "source": [
        "### **Define Criterion and Optimizer**"
      ]
    },
    {
      "cell_type": "code",
      "execution_count": 4,
      "metadata": {
        "id": "iB-cmURtCWbb"
      },
      "outputs": [],
      "source": [
        "model = Net()\n",
        "\n",
        "# TODO: COMPLETE THIS CODE\n",
        "\n",
        "criterion = nn.CrossEntropyLoss()\n",
        "optimizer = optim.Adam(model.parameters(), lr=0.001)"
      ]
    },
    {
      "cell_type": "markdown",
      "metadata": {
        "id": "_W_EtO-KCWbb"
      },
      "source": [
        "### **Training & Evaluating NN Model**"
      ]
    },
    {
      "cell_type": "code",
      "execution_count": 5,
      "metadata": {
        "id": "OxPbvFHECWbb",
        "colab": {
          "base_uri": "https://localhost:8080/"
        },
        "outputId": "c39347ac-e16d-461d-dc90-0c180a8a554d"
      },
      "outputs": [
        {
          "output_type": "stream",
          "name": "stdout",
          "text": [
            "Epoch: [1/10]\t Training Loss: 0.669\t Test Loss: 0.459\t Test Accuracy: 83.570%\n",
            "Epoch: [2/10]\t Training Loss: 0.507\t Test Loss: 0.428\t Test Accuracy: 84.370%\n",
            "Epoch: [3/10]\t Training Loss: 0.478\t Test Loss: 0.409\t Test Accuracy: 85.080%\n",
            "Epoch: [4/10]\t Training Loss: 0.453\t Test Loss: 0.407\t Test Accuracy: 84.580%\n",
            "Epoch: [5/10]\t Training Loss: 0.439\t Test Loss: 0.390\t Test Accuracy: 85.480%\n",
            "Epoch: [6/10]\t Training Loss: 0.428\t Test Loss: 0.390\t Test Accuracy: 85.730%\n",
            "Epoch: [7/10]\t Training Loss: 0.422\t Test Loss: 0.379\t Test Accuracy: 85.900%\n",
            "Epoch: [8/10]\t Training Loss: 0.408\t Test Loss: 0.368\t Test Accuracy: 86.780%\n",
            "Epoch: [9/10]\t Training Loss: 0.406\t Test Loss: 0.387\t Test Accuracy: 86.480%\n",
            "Epoch: [10/10]\t Training Loss: 0.398\t Test Loss: 0.368\t Test Accuracy: 86.690%\n"
          ]
        }
      ],
      "source": [
        "EPOCHS = 10\n",
        "train_losses, test_losses = list(), list()\n",
        "\n",
        "for epoch in range(EPOCHS):\n",
        "    train_loss = 0.0\n",
        "    test_loss = 0.0\n",
        "    correct = 0\n",
        "    total = 0\n",
        "\n",
        "    model.train()\n",
        "    for images, labels in trainloader:\n",
        "        optimizer.zero_grad()\n",
        "        output = model(images)\n",
        "        loss = criterion(output, labels)\n",
        "        loss.backward()\n",
        "        optimizer.step()\n",
        "        train_loss += loss.item()\n",
        "\n",
        "    model.eval()\n",
        "    with torch.no_grad():\n",
        "        for images, labels in testloader:\n",
        "            output = model(images)\n",
        "            loss = criterion(output, labels)\n",
        "            test_loss += loss.item()\n",
        "            _, predicted = torch.max(output.data, 1)\n",
        "            total += labels.size(0)\n",
        "            correct += (predicted == labels).sum().item()\n",
        "\n",
        "    train_losses.append(train_loss / len(trainloader))\n",
        "    test_losses.append(test_loss / len(testloader))\n",
        "    accuracy = 100 * correct / total\n",
        "    print(f\"Epoch: [{epoch + 1}/{EPOCHS}]\\t\",\n",
        "          f\"Training Loss: {train_losses[-1]:.3f}\\t\",\n",
        "          f\"Test Loss: {test_losses[-1]:.3f}\\t\",\n",
        "          f\"Test Accuracy: {accuracy:.3f}%\")"
      ]
    },
    {
      "cell_type": "markdown",
      "metadata": {
        "id": "1qdQ2ktSCWbb"
      },
      "source": [
        "### **Plot train and validation losses**"
      ]
    },
    {
      "cell_type": "code",
      "execution_count": 6,
      "metadata": {
        "id": "_uimt5kvCWbb",
        "outputId": "64c704db-1928-49c7-f07c-292d3dfe38f4",
        "colab": {
          "base_uri": "https://localhost:8080/",
          "height": 472
        }
      },
      "outputs": [
        {
          "output_type": "display_data",
          "data": {
            "text/plain": [
              "<Figure size 640x480 with 1 Axes>"
            ],
            "image/png": "[encoded data removed]"
          },
          "metadata": {}
        }
      ],
      "source": [
        "EPOCHS = 10\n",
        "def learning_curve_plotter(train_losses, test_losses, EPOCH) :\n",
        "    # plot the learning curves\n",
        "    plt.plot(np.arange(1, EPOCH+1), train_losses, label=\"Train loss\")\n",
        "    plt.plot(np.arange(1, EPOCH+1), test_losses, label=\"Test loss\")\n",
        "    plt.title(\"Training and test loss curves\")\n",
        "    plt.ylabel(\"Loss\")\n",
        "    plt.xlabel(\"Epochs\")\n",
        "    plt.legend();\n",
        "\n",
        "learning_curve_plotter(train_losses, test_losses, EPOCHS)"
      ]
    }
  ],
  "metadata": {
    "kernelspec": {
      "display_name": ".venv",
      "language": "python",
      "name": "python3"
    },
    "language_info": {
      "codemirror_mode": {
        "name": "ipython",
        "version": 3
      },
      "file_extension": ".py",
      "mimetype": "text/x-python",
      "name": "python",
      "nbconvert_exporter": "python",
      "pygments_lexer": "ipython3",
      "version": "3.12.2"
    },
    "colab": {
      "provenance": []
    }
  },
  "nbformat": 4,
  "nbformat_minor": 0
}