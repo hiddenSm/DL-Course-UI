{
  "cells": [
    {
      "cell_type": "markdown",
      "metadata": {
        "id": "N__S3-5R-McI"
      },
      "source": [
        "<div dir=\"rtl\" align=\"center\">\n",
        "    <h2><strong> HW1: Overfitting Detection through Validation Set </strong></h2>\n",
        "</div>"
      ]
    },
    {
      "cell_type": "markdown",
      "metadata": {
        "id": "z9bz-q5s-McL"
      },
      "source": [
        "### **Import libraries**"
      ]
    },
    {
      "cell_type": "markdown",
      "source": [
        "Sepehr Moniri -- 981813205"
      ],
      "metadata": {
        "id": "r_MVPS8oBjg9"
      }
    },
    {
      "cell_type": "code",
      "execution_count": null,
      "metadata": {
        "id": "aDaJOKvg-McM"
      },
      "outputs": [],
      "source": [
        "import torch\n",
        "import torch.nn as nn\n",
        "import torch.optim as optim\n",
        "from matplotlib import pyplot as plt\n",
        "from torch.utils.data import DataLoader\n",
        "from torchvision import datasets, transforms\n",
        "import numpy as np"
      ]
    },
    {
      "cell_type": "markdown",
      "metadata": {
        "id": "scGKrdHX-McN"
      },
      "source": [
        "### **Load train and test FasionMNIST dataset**"
      ]
    },
    {
      "cell_type": "code",
      "execution_count": null,
      "metadata": {
        "id": "bNnd5F07-McO"
      },
      "outputs": [],
      "source": [
        "transform = transforms.Compose([\n",
        "    transforms.ToTensor(),\n",
        "    transforms.Normalize((0.5,), (0.5,))\n",
        "])\n",
        "\n",
        "trainset = datasets.FashionMNIST(\n",
        "    root='./data/F_MNIST_data/',\n",
        "    download=True,\n",
        "    train=True,\n",
        "    transform=transform\n",
        ")\n",
        "\n",
        "testset = datasets.FashionMNIST(\n",
        "    root='./data/F_MNIST_data/',\n",
        "    download=True,\n",
        "    train=False,\n",
        "    transform=transform\n",
        ")\n",
        "\n",
        "# TODO: COMPLETE THIS CODE\n",
        "BATCH_SIZE = 64\n",
        "trainloader = DataLoader(trainset, batch_size=BATCH_SIZE, shuffle=True)\n",
        "testloader = DataLoader(testset, batch_size=BATCH_SIZE, shuffle=False)"
      ]
    },
    {
      "cell_type": "markdown",
      "metadata": {
        "id": "drkqWxhv-McO"
      },
      "source": [
        "### **Construct Multi-Layer Neural Network Model**"
      ]
    },
    {
      "cell_type": "code",
      "execution_count": null,
      "metadata": {
        "id": "WS925wNS-McO"
      },
      "outputs": [],
      "source": [
        "class Net(nn.Module):\n",
        "    def __init__(self):\n",
        "        super().__init__()\n",
        "        self.linear_relu_stack = nn.Sequential(\n",
        "            nn.Flatten(),\n",
        "            nn.Linear(28*28, 512),\n",
        "            nn.ReLU(),\n",
        "            nn.Linear(512, 512),\n",
        "            nn.ReLU(),\n",
        "            nn.Linear(512, 10),\n",
        "        )\n",
        "\n",
        "    def forward(self, x):\n",
        "        logits = self.linear_relu_stack(x)\n",
        "\n",
        "        return logits"
      ]
    },
    {
      "cell_type": "markdown",
      "metadata": {
        "id": "ZEn5o0N9-McP"
      },
      "source": [
        "### **Define Criterion and Optimizer**"
      ]
    },
    {
      "cell_type": "code",
      "execution_count": null,
      "metadata": {
        "id": "G6zUBCqe-McP"
      },
      "outputs": [],
      "source": [
        "model = Net()\n",
        "\n",
        "# TODO: COMPLETE THIS CODE\n",
        "\n",
        "learning_rate = 0.007\n",
        "BATCH_SIZE = 64\n",
        "\n",
        "criterion = nn.CrossEntropyLoss()\n",
        "optimizer = optim.SGD(model.parameters(), lr=learning_rate)"
      ]
    },
    {
      "cell_type": "markdown",
      "metadata": {
        "id": "aK_l_cBv-McP"
      },
      "source": [
        "### **Training & Evaluating NN Model**"
      ]
    },
    {
      "cell_type": "code",
      "execution_count": null,
      "metadata": {
        "colab": {
          "base_uri": "https://localhost:8080/"
        },
        "id": "shUg7P7T-McP",
        "outputId": "0c183f40-1ee3-4e35-d0a6-147ac99d17ca"
      },
      "outputs": [
        {
          "output_type": "stream",
          "name": "stdout",
          "text": [
            "Epoch: [1/10]\t Training Loss: 1.056\t Test Loss: 0.655\t Test Accuracy: 76.250%\n",
            "Epoch: [2/10]\t Training Loss: 0.577\t Test Loss: 0.551\t Test Accuracy: 79.750%\n",
            "Epoch: [3/10]\t Training Loss: 0.503\t Test Loss: 0.507\t Test Accuracy: 81.980%\n",
            "Epoch: [4/10]\t Training Loss: 0.466\t Test Loss: 0.494\t Test Accuracy: 81.980%\n",
            "Epoch: [5/10]\t Training Loss: 0.440\t Test Loss: 0.458\t Test Accuracy: 83.430%\n",
            "Epoch: [6/10]\t Training Loss: 0.423\t Test Loss: 0.465\t Test Accuracy: 83.230%\n",
            "Epoch: [7/10]\t Training Loss: 0.408\t Test Loss: 0.444\t Test Accuracy: 84.010%\n",
            "Epoch: [8/10]\t Training Loss: 0.396\t Test Loss: 0.432\t Test Accuracy: 84.440%\n",
            "Epoch: [9/10]\t Training Loss: 0.385\t Test Loss: 0.427\t Test Accuracy: 84.600%\n",
            "Epoch: [10/10]\t Training Loss: 0.376\t Test Loss: 0.412\t Test Accuracy: 85.040%\n"
          ]
        }
      ],
      "source": [
        "EPOCHS = 10\n",
        "train_losses, test_losses = list(), list()\n",
        "\n",
        "for epoch in range(EPOCHS):\n",
        "    train_loss = 0.0\n",
        "    test_loss = 0.0\n",
        "    correct = 0\n",
        "    total = 0\n",
        "\n",
        "    model.train()\n",
        "    for images, labels in trainloader:\n",
        "        optimizer.zero_grad()\n",
        "        output = model(images)\n",
        "        loss = criterion(output, labels)\n",
        "        loss.backward()\n",
        "        optimizer.step()\n",
        "        train_loss += loss.item()\n",
        "\n",
        "    model.eval()\n",
        "    with torch.no_grad():\n",
        "        for images, labels in testloader:\n",
        "            output = model(images)\n",
        "            loss = criterion(output, labels)\n",
        "            test_loss += loss.item()\n",
        "            _, predicted = torch.max(output.data, 1)\n",
        "            total += labels.size(0)\n",
        "            correct += (predicted == labels).sum().item()\n",
        "\n",
        "    train_losses.append(train_loss / len(trainloader))\n",
        "    test_losses.append(test_loss / len(testloader))\n",
        "    accuracy = 100 * correct / total\n",
        "    print(f\"Epoch: [{epoch + 1}/{EPOCHS}]\\t\",\n",
        "          f\"Training Loss: {train_losses[-1]:.3f}\\t\",\n",
        "          f\"Test Loss: {test_losses[-1]:.3f}\\t\",\n",
        "          f\"Test Accuracy: {accuracy:.3f}%\")"
      ]
    },
    {
      "cell_type": "markdown",
      "metadata": {
        "id": "iztRwXVj-McQ"
      },
      "source": [
        "### **Plot train and validation losses**"
      ]
    },
    {
      "cell_type": "code",
      "execution_count": null,
      "metadata": {
        "colab": {
          "base_uri": "https://localhost:8080/",
          "height": 472
        },
        "id": "8r8lEuVB-McQ",
        "outputId": "05a2a4d8-62d0-4265-8ac1-f6993b89a18f"
      },
      "outputs": [
        {
          "output_type": "display_data",
          "data": {
            "text/plain": [
              "<Figure size 640x480 with 1 Axes>"
            ],
            "image/png": "[encoded data removed]"
          },
          "metadata": {}
        }
      ],
      "source": [
        "# fig, ax = plt.subplots(figsize=(5, 4))\n",
        "\n",
        "# _ = ax.plot(train_losses, label=\"train loss\")\n",
        "# _ = ax.plot(test_losses, label=\"val loss\")\n",
        "\n",
        "EPOCHS = 10\n",
        "def learning_curve_plotter(train_losses, val_losses, EPOCH) :\n",
        "    # plot the learning curves\n",
        "    plt.plot(np.arange(1, EPOCH+1), train_losses, label=\"Train loss\")\n",
        "    plt.plot(np.arange(1, EPOCH+1), val_losses, label=\"Test loss\")\n",
        "    plt.title(\"Training and test loss curves\")\n",
        "    plt.ylabel(\"Loss\")\n",
        "    plt.xlabel(\"Epochs\")\n",
        "    plt.legend();\n",
        "\n",
        "val_losses = test_losses\n",
        "learning_curve_plotter(train_losses, val_losses, EPOCHS)"
      ]
    }
  ],
  "metadata": {
    "kernelspec": {
      "display_name": ".venv",
      "language": "python",
      "name": "python3"
    },
    "language_info": {
      "codemirror_mode": {
        "name": "ipython",
        "version": 3
      },
      "file_extension": ".py",
      "mimetype": "text/x-python",
      "name": "python",
      "nbconvert_exporter": "python",
      "pygments_lexer": "ipython3",
      "version": "3.12.2"
    },
    "colab": {
      "provenance": []
    }
  },
  "nbformat": 4,
  "nbformat_minor": 0
}