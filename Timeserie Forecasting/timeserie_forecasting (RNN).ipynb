{
  "nbformat": 4,
  "nbformat_minor": 0,
  "metadata": {
    "colab": {
      "provenance": [],
      "gpuType": "T4"
    },
    "kernelspec": {
      "name": "python3",
      "display_name": "Python 3"
    },
    "language_info": {
      "name": "python"
    },
    "accelerator": "GPU"
  },
  "cells": [
    {
      "cell_type": "markdown",
      "source": [
        "<div dir=\"rtl\" align=\"center\">\n",
        "    <h2><strong> HW4: TimeSerie Forcasting with LSTM </strong></h2>\n",
        "</div>"
      ],
      "metadata": {
        "id": "ISEG1pQfhTXZ"
      }
    },
    {
      "cell_type": "markdown",
      "source": [
        "Sepehr Moniri\n",
        "981813205"
      ],
      "metadata": {
        "id": "oA-UIG5yCj7M"
      }
    },
    {
      "cell_type": "code",
      "execution_count": 44,
      "metadata": {
        "id": "0X3NOlejgr5_"
      },
      "outputs": [],
      "source": [
        "import torch\n",
        "import numpy as np\n",
        "import pandas as pd\n",
        "import seaborn as sns\n",
        "\n",
        "\n",
        "from torch import nn\n",
        "from torchvision import transforms\n",
        "from matplotlib import pyplot as plt\n",
        "from sklearn.preprocessing import MinMaxScaler\n",
        "from torch.utils.data import Dataset, DataLoader\n",
        "from sklearn.model_selection import train_test_split"
      ]
    },
    {
      "cell_type": "code",
      "source": [
        "device = 'cuda' if torch.cuda.is_available() else 'cpu'"
      ],
      "metadata": {
        "id": "BdgFYxA_5qEx"
      },
      "execution_count": 45,
      "outputs": []
    },
    {
      "cell_type": "markdown",
      "source": [
        "### **Load Flights Dataset from `Seaborn` library**"
      ],
      "metadata": {
        "id": "JakWJTUAhdxO"
      }
    },
    {
      "cell_type": "code",
      "source": [
        "flight_data = sns.load_dataset(\"flights\")\n",
        "flight_data.head()"
      ],
      "metadata": {
        "colab": {
          "base_uri": "https://localhost:8080/",
          "height": 206
        },
        "id": "8IbLPI7yg9R4",
        "outputId": "18182f6a-07ab-4766-f173-0af60c7a6311"
      },
      "execution_count": 46,
      "outputs": [
        {
          "output_type": "execute_result",
          "data": {
            "text/plain": [
              "   year month  passengers\n",
              "0  1949   Jan         112\n",
              "1  1949   Feb         118\n",
              "2  1949   Mar         132\n",
              "3  1949   Apr         129\n",
              "4  1949   May         121"
            ],
            "text/html": [
              "\n",
              "  <div id=\"df-487038a5-1a14-412a-9da2-55cc1254062b\" class=\"colab-df-container\">\n",
              "    <div>\n",
              "<style scoped>\n",
              "    .dataframe tbody tr th:only-of-type {\n",
              "        vertical-align: middle;\n",
              "    }\n",
              "\n",
              "    .dataframe tbody tr th {\n",
              "        vertical-align: top;\n",
              "    }\n",
              "\n",
              "    .dataframe thead th {\n",
              "        text-align: right;\n",
              "    }\n",
              "</style>\n",
              "<table border=\"1\" class=\"dataframe\">\n",
              "  <thead>\n",
              "    <tr style=\"text-align: right;\">\n",
              "      <th></th>\n",
              "      <th>year</th>\n",
              "      <th>month</th>\n",
              "      <th>passengers</th>\n",
              "    </tr>\n",
              "  </thead>\n",
              "  <tbody>\n",
              "    <tr>\n",
              "      <th>0</th>\n",
              "      <td>1949</td>\n",
              "      <td>Jan</td>\n",
              "      <td>112</td>\n",
              "    </tr>\n",
              "    <tr>\n",
              "      <th>1</th>\n",
              "      <td>1949</td>\n",
              "      <td>Feb</td>\n",
              "      <td>118</td>\n",
              "    </tr>\n",
              "    <tr>\n",
              "      <th>2</th>\n",
              "      <td>1949</td>\n",
              "      <td>Mar</td>\n",
              "      <td>132</td>\n",
              "    </tr>\n",
              "    <tr>\n",
              "      <th>3</th>\n",
              "      <td>1949</td>\n",
              "      <td>Apr</td>\n",
              "      <td>129</td>\n",
              "    </tr>\n",
              "    <tr>\n",
              "      <th>4</th>\n",
              "      <td>1949</td>\n",
              "      <td>May</td>\n",
              "      <td>121</td>\n",
              "    </tr>\n",
              "  </tbody>\n",
              "</table>\n",
              "</div>\n",
              "    <div class=\"colab-df-buttons\">\n",
              "\n",
              "  <div class=\"colab-df-container\">\n",
              "    <button class=\"colab-df-convert\" onclick=\"convertToInteractive('df-487038a5-1a14-412a-9da2-55cc1254062b')\"\n",
              "            title=\"Convert this dataframe to an interactive table.\"\n",
              "            style=\"display:none;\">\n",
              "\n",
              "  <svg xmlns=\"http://www.w3.org/2000/svg\" height=\"24px\" viewBox=\"0 -960 960 960\">\n",
              "    <path d=\"M120-120v-720h720v720H120Zm60-500h600v-160H180v160Zm220 220h160v-160H400v160Zm0 220h160v-160H400v160ZM180-400h160v-160H180v160Zm440 0h160v-160H620v160ZM180-180h160v-160H180v160Zm440 0h160v-160H620v160Z\"/>\n",
              "  </svg>\n",
              "    </button>\n",
              "\n",
              "  <style>\n",
              "    .colab-df-container {\n",
              "      display:flex;\n",
              "      gap: 12px;\n",
              "    }\n",
              "\n",
              "    .colab-df-convert {\n",
              "      background-color: #E8F0FE;\n",
              "      border: none;\n",
              "      border-radius: 50%;\n",
              "      cursor: pointer;\n",
              "      display: none;\n",
              "      fill: #1967D2;\n",
              "      height: 32px;\n",
              "      padding: 0 0 0 0;\n",
              "      width: 32px;\n",
              "    }\n",
              "\n",
              "    .colab-df-convert:hover {\n",
              "      background-color: #E2EBFA;\n",
              "      box-shadow: 0px 1px 2px rgba(60, 64, 67, 0.3), 0px 1px 3px 1px rgba(60, 64, 67, 0.15);\n",
              "      fill: #174EA6;\n",
              "    }\n",
              "\n",
              "    .colab-df-buttons div {\n",
              "      margin-bottom: 4px;\n",
              "    }\n",
              "\n",
              "    [theme=dark] .colab-df-convert {\n",
              "      background-color: #3B4455;\n",
              "      fill: #D2E3FC;\n",
              "    }\n",
              "\n",
              "    [theme=dark] .colab-df-convert:hover {\n",
              "      background-color: #434B5C;\n",
              "      box-shadow: 0px 1px 3px 1px rgba(0, 0, 0, 0.15);\n",
              "      filter: drop-shadow(0px 1px 2px rgba(0, 0, 0, 0.3));\n",
              "      fill: #FFFFFF;\n",
              "    }\n",
              "  </style>\n",
              "\n",
              "    <script>\n",
              "      const buttonEl =\n",
              "        document.querySelector('#df-487038a5-1a14-412a-9da2-55cc1254062b button.colab-df-convert');\n",
              "      buttonEl.style.display =\n",
              "        google.colab.kernel.accessAllowed ? 'block' : 'none';\n",
              "\n",
              "      async function convertToInteractive(key) {\n",
              "        const element = document.querySelector('#df-487038a5-1a14-412a-9da2-55cc1254062b');\n",
              "        const dataTable =\n",
              "          await google.colab.kernel.invokeFunction('convertToInteractive',\n",
              "                                                    [key], {});\n",
              "        if (!dataTable) return;\n",
              "\n",
              "        const docLinkHtml = 'Like what you see? Visit the ' +\n",
              "          '<a target=\"_blank\" href=https://colab.research.google.com/notebooks/data_table.ipynb>data table notebook</a>'\n",
              "          + ' to learn more about interactive tables.';\n",
              "        element.innerHTML = '';\n",
              "        dataTable['output_type'] = 'display_data';\n",
              "        await google.colab.output.renderOutput(dataTable, element);\n",
              "        const docLink = document.createElement('div');\n",
              "        docLink.innerHTML = docLinkHtml;\n",
              "        element.appendChild(docLink);\n",
              "      }\n",
              "    </script>\n",
              "  </div>\n",
              "\n",
              "\n",
              "<div id=\"df-0336e5f9-ba72-4cd8-aacd-01ad218a90b8\">\n",
              "  <button class=\"colab-df-quickchart\" onclick=\"quickchart('df-0336e5f9-ba72-4cd8-aacd-01ad218a90b8')\"\n",
              "            title=\"Suggest charts\"\n",
              "            style=\"display:none;\">\n",
              "\n",
              "<svg xmlns=\"http://www.w3.org/2000/svg\" height=\"24px\"viewBox=\"0 0 24 24\"\n",
              "     width=\"24px\">\n",
              "    <g>\n",
              "        <path d=\"M19 3H5c-1.1 0-2 .9-2 2v14c0 1.1.9 2 2 2h14c1.1 0 2-.9 2-2V5c0-1.1-.9-2-2-2zM9 17H7v-7h2v7zm4 0h-2V7h2v10zm4 0h-2v-4h2v4z\"/>\n",
              "    </g>\n",
              "</svg>\n",
              "  </button>\n",
              "\n",
              "<style>\n",
              "  .colab-df-quickchart {\n",
              "      --bg-color: #E8F0FE;\n",
              "      --fill-color: #1967D2;\n",
              "      --hover-bg-color: #E2EBFA;\n",
              "      --hover-fill-color: #174EA6;\n",
              "      --disabled-fill-color: #AAA;\n",
              "      --disabled-bg-color: #DDD;\n",
              "  }\n",
              "\n",
              "  [theme=dark] .colab-df-quickchart {\n",
              "      --bg-color: #3B4455;\n",
              "      --fill-color: #D2E3FC;\n",
              "      --hover-bg-color: #434B5C;\n",
              "      --hover-fill-color: #FFFFFF;\n",
              "      --disabled-bg-color: #3B4455;\n",
              "      --disabled-fill-color: #666;\n",
              "  }\n",
              "\n",
              "  .colab-df-quickchart {\n",
              "    background-color: var(--bg-color);\n",
              "    border: none;\n",
              "    border-radius: 50%;\n",
              "    cursor: pointer;\n",
              "    display: none;\n",
              "    fill: var(--fill-color);\n",
              "    height: 32px;\n",
              "    padding: 0;\n",
              "    width: 32px;\n",
              "  }\n",
              "\n",
              "  .colab-df-quickchart:hover {\n",
              "    background-color: var(--hover-bg-color);\n",
              "    box-shadow: 0 1px 2px rgba(60, 64, 67, 0.3), 0 1px 3px 1px rgba(60, 64, 67, 0.15);\n",
              "    fill: var(--button-hover-fill-color);\n",
              "  }\n",
              "\n",
              "  .colab-df-quickchart-complete:disabled,\n",
              "  .colab-df-quickchart-complete:disabled:hover {\n",
              "    background-color: var(--disabled-bg-color);\n",
              "    fill: var(--disabled-fill-color);\n",
              "    box-shadow: none;\n",
              "  }\n",
              "\n",
              "  .colab-df-spinner {\n",
              "    border: 2px solid var(--fill-color);\n",
              "    border-color: transparent;\n",
              "    border-bottom-color: var(--fill-color);\n",
              "    animation:\n",
              "      spin 1s steps(1) infinite;\n",
              "  }\n",
              "\n",
              "  @keyframes spin {\n",
              "    0% {\n",
              "      border-color: transparent;\n",
              "      border-bottom-color: var(--fill-color);\n",
              "      border-left-color: var(--fill-color);\n",
              "    }\n",
              "    20% {\n",
              "      border-color: transparent;\n",
              "      border-left-color: var(--fill-color);\n",
              "      border-top-color: var(--fill-color);\n",
              "    }\n",
              "    30% {\n",
              "      border-color: transparent;\n",
              "      border-left-color: var(--fill-color);\n",
              "      border-top-color: var(--fill-color);\n",
              "      border-right-color: var(--fill-color);\n",
              "    }\n",
              "    40% {\n",
              "      border-color: transparent;\n",
              "      border-right-color: var(--fill-color);\n",
              "      border-top-color: var(--fill-color);\n",
              "    }\n",
              "    60% {\n",
              "      border-color: transparent;\n",
              "      border-right-color: var(--fill-color);\n",
              "    }\n",
              "    80% {\n",
              "      border-color: transparent;\n",
              "      border-right-color: var(--fill-color);\n",
              "      border-bottom-color: var(--fill-color);\n",
              "    }\n",
              "    90% {\n",
              "      border-color: transparent;\n",
              "      border-bottom-color: var(--fill-color);\n",
              "    }\n",
              "  }\n",
              "</style>\n",
              "\n",
              "  <script>\n",
              "    async function quickchart(key) {\n",
              "      const quickchartButtonEl =\n",
              "        document.querySelector('#' + key + ' button');\n",
              "      quickchartButtonEl.disabled = true;  // To prevent multiple clicks.\n",
              "      quickchartButtonEl.classList.add('colab-df-spinner');\n",
              "      try {\n",
              "        const charts = await google.colab.kernel.invokeFunction(\n",
              "            'suggestCharts', [key], {});\n",
              "      } catch (error) {\n",
              "        console.error('Error during call to suggestCharts:', error);\n",
              "      }\n",
              "      quickchartButtonEl.classList.remove('colab-df-spinner');\n",
              "      quickchartButtonEl.classList.add('colab-df-quickchart-complete');\n",
              "    }\n",
              "    (() => {\n",
              "      let quickchartButtonEl =\n",
              "        document.querySelector('#df-0336e5f9-ba72-4cd8-aacd-01ad218a90b8 button');\n",
              "      quickchartButtonEl.style.display =\n",
              "        google.colab.kernel.accessAllowed ? 'block' : 'none';\n",
              "    })();\n",
              "  </script>\n",
              "</div>\n",
              "    </div>\n",
              "  </div>\n"
            ],
            "application/vnd.google.colaboratory.intrinsic+json": {
              "type": "dataframe",
              "variable_name": "flight_data",
              "summary": "{\n  \"name\": \"flight_data\",\n  \"rows\": 144,\n  \"fields\": [\n    {\n      \"column\": \"year\",\n      \"properties\": {\n        \"dtype\": \"number\",\n        \"std\": 3,\n        \"min\": 1949,\n        \"max\": 1960,\n        \"num_unique_values\": 12,\n        \"samples\": [\n          1959,\n          1958,\n          1949\n        ],\n        \"semantic_type\": \"\",\n        \"description\": \"\"\n      }\n    },\n    {\n      \"column\": \"month\",\n      \"properties\": {\n        \"dtype\": \"category\",\n        \"num_unique_values\": 12,\n        \"samples\": [\n          \"Nov\",\n          \"Oct\",\n          \"Jan\"\n        ],\n        \"semantic_type\": \"\",\n        \"description\": \"\"\n      }\n    },\n    {\n      \"column\": \"passengers\",\n      \"properties\": {\n        \"dtype\": \"number\",\n        \"std\": 119,\n        \"min\": 104,\n        \"max\": 622,\n        \"num_unique_values\": 118,\n        \"samples\": [\n          293,\n          340,\n          121\n        ],\n        \"semantic_type\": \"\",\n        \"description\": \"\"\n      }\n    }\n  ]\n}"
            }
          },
          "metadata": {},
          "execution_count": 46
        }
      ]
    },
    {
      "cell_type": "code",
      "source": [
        "data = flight_data['passengers'].values"
      ],
      "metadata": {
        "id": "fmgz-my0k_mE"
      },
      "execution_count": 47,
      "outputs": []
    },
    {
      "cell_type": "code",
      "source": [
        "fig, ax = plt.subplots(figsize=(12, 4))\n",
        "\n",
        "_ = ax.plot(data)\n",
        "\n",
        "_ = ax.set_title(\"Passengers's Trend\")\n",
        "_ = ax.set_xlabel(\"Samples\")\n",
        "_ = ax.set_ylabel(\"# of Passengers\")"
      ],
      "metadata": {
        "colab": {
          "base_uri": "https://localhost:8080/",
          "height": 410
        },
        "id": "92KnJdiYiQzC",
        "outputId": "9942327f-2357-445b-9c49-e16db9633202"
      },
      "execution_count": 48,
      "outputs": [
        {
          "output_type": "display_data",
          "data": {
            "text/plain": [
              "<Figure size 1200x400 with 1 Axes>"
            ],
            "image/png": "[encoded data removed]"
          },
          "metadata": {}
        }
      ]
    },
    {
      "cell_type": "markdown",
      "source": [
        "### **Normalize Data**"
      ],
      "metadata": {
        "id": "tEbDi9tx-hba"
      }
    },
    {
      "cell_type": "code",
      "source": [
        "scaler = MinMaxScaler(feature_range=(-1, 1))\n",
        "data_normalized = scaler.fit_transform(data.reshape(-1, 1))"
      ],
      "metadata": {
        "id": "mYDcf7JU5Nx-"
      },
      "execution_count": 49,
      "outputs": []
    },
    {
      "cell_type": "markdown",
      "source": [
        "### **Make Sequence Data**"
      ],
      "metadata": {
        "id": "V4I17eEWm65H"
      }
    },
    {
      "cell_type": "code",
      "source": [
        "def create_input_sequences(data: np.ndarray, window: int):\n",
        "    X, labels = [], []\n",
        "    data_size = len(data)\n",
        "    for i in range(data_size - window):\n",
        "        # TODO: COMPLETE THIS CODE\n",
        "        X.append(data[i:i+window])\n",
        "        labels.append(data[i+window])\n",
        "\n",
        "    return np.array(X), np.array(labels)\n"
      ],
      "metadata": {
        "id": "urb5MZ5hm_s4"
      },
      "execution_count": 50,
      "outputs": []
    },
    {
      "cell_type": "code",
      "source": [
        "window_size = 4\n",
        "X, y = create_input_sequences(data_normalized, window_size)"
      ],
      "metadata": {
        "id": "Fv3ymMPMnM_x"
      },
      "execution_count": 51,
      "outputs": []
    },
    {
      "cell_type": "code",
      "source": [
        "print(X.shape, y.shape)"
      ],
      "metadata": {
        "colab": {
          "base_uri": "https://localhost:8080/"
        },
        "id": "mMEIkl0sqf5j",
        "outputId": "f12d0bb4-1612-419d-90d6-846f4755b686"
      },
      "execution_count": 52,
      "outputs": [
        {
          "output_type": "stream",
          "name": "stdout",
          "text": [
            "(140, 4, 1) (140, 1)\n"
          ]
        }
      ]
    },
    {
      "cell_type": "markdown",
      "source": [
        "### **Create Custom Dataset Torch**"
      ],
      "metadata": {
        "id": "REwnV7vYixrM"
      }
    },
    {
      "cell_type": "code",
      "source": [
        "class SimpleDataset(Dataset):\n",
        "    def __init__(self, x: np.ndarray, y: np.ndarray) -> None:\n",
        "        super(SimpleDataset, self).__init__()\n",
        "        # TODO: COMPLETE THIS CODE\n",
        "        self.x = x\n",
        "        self.y = y\n",
        "\n",
        "    def __len__(self):\n",
        "      # TODO: COMPLETE THIS CODE\n",
        "        return len(self.x)\n",
        "\n",
        "    def __getitem__(self, index):\n",
        "      # TODO: COMPLETE THIS CODE\n",
        "        return self.x[index], self.y[index]"
      ],
      "metadata": {
        "id": "3jU8RySti3-m"
      },
      "execution_count": 53,
      "outputs": []
    },
    {
      "cell_type": "markdown",
      "source": [
        "### **Split Train & Test with `test_size=0.2` and `shuffle=False`**"
      ],
      "metadata": {
        "id": "rOveL3wsqxpt"
      }
    },
    {
      "cell_type": "code",
      "source": [
        "# TODO: COMPLETE THIS CODE\n",
        "\n",
        "x_train, x_test, y_train, y_test = train_test_split(X, y, test_size=0.2, shuffle=False)"
      ],
      "metadata": {
        "id": "_E6wd5Z6q6Nr"
      },
      "execution_count": 54,
      "outputs": []
    },
    {
      "cell_type": "markdown",
      "source": [
        "### **Make Dataset & DataLoader**"
      ],
      "metadata": {
        "id": "wOslhGHgqW1M"
      }
    },
    {
      "cell_type": "code",
      "source": [
        "trainset = SimpleDataset(x_train, y_train)\n",
        "testset = SimpleDataset(x_test, y_test)\n",
        "\n",
        "trainloader = DataLoader(trainset, shuffle=False, batch_size=1)\n",
        "testloader = DataLoader(testset, shuffle=False, batch_size=1)"
      ],
      "metadata": {
        "id": "IMcKer3Lp94e"
      },
      "execution_count": 55,
      "outputs": []
    },
    {
      "cell_type": "markdown",
      "source": [
        "### **Make RNN model base LSTM**"
      ],
      "metadata": {
        "id": "tG4d5ujFrjYG"
      }
    },
    {
      "cell_type": "code",
      "source": [
        "class CustomLSTM(nn.Module):\n",
        "    def __init__(self, input_size=1, hidden_layer_size=100, output_size=1):\n",
        "        super(CustomLSTM, self).__init__()\n",
        "        # TODO: COMPLETE THIS CODE\n",
        "        self.hidden_layer_size = hidden_layer_size\n",
        "        self.lstm = nn.LSTM(input_size, hidden_layer_size)\n",
        "        self.linear = nn.Linear(hidden_layer_size, output_size)\n",
        "        self.hidden_cell = (torch.zeros(1,1,self.hidden_layer_size),\n",
        "                            torch.zeros(1,1,self.hidden_layer_size))\n",
        "\n",
        "    def forward(self, input_seq):\n",
        "        # TODO: COMPLETE THIS CODE\n",
        "        lstm_out, self.hidden_cell = self.lstm(input_seq.view(len(input_seq) ,1, -1), self.hidden_cell)\n",
        "        predictions = self.linear(lstm_out.view(len(input_seq), -1))\n",
        "        return predictions[-1]"
      ],
      "metadata": {
        "id": "ZIOgfghzriKP"
      },
      "execution_count": 56,
      "outputs": []
    },
    {
      "cell_type": "markdown",
      "source": [
        "### **Define Model, Criterion and Optimizer(SGD with lr=0.001)**"
      ],
      "metadata": {
        "id": "q-_fPKCgsfTy"
      }
    },
    {
      "cell_type": "code",
      "source": [
        "model = CustomLSTM(input_size=4, hidden_layer_size=128, output_size=1).to(device)\n",
        "\n",
        "# TODO: COMPLETE THIS CODE\n",
        "\n",
        "criterion = nn.MSELoss()\n",
        "optimizer = torch.optim.SGD(model.parameters(), lr=0.001)"
      ],
      "metadata": {
        "id": "tzG5QfqUsXkG"
      },
      "execution_count": 57,
      "outputs": []
    },
    {
      "cell_type": "markdown",
      "source": [
        "### **Training CustomLSTM**"
      ],
      "metadata": {
        "id": "SuRA74j8s2Mj"
      }
    },
    {
      "cell_type": "code",
      "source": [
        "EPOCHS = 500\n",
        "\n",
        "model.train()\n",
        "for i in range(EPOCHS):\n",
        "    for seq, labels in trainloader:\n",
        "        seq, labels = seq.to(device).float(), labels.to(device).float()\n",
        "        optimizer.zero_grad()\n",
        "        model.hidden_cell = (\n",
        "            torch.zeros(1, 1, model.hidden_layer_size).to(device),\n",
        "            torch.zeros(1, 1, model.hidden_layer_size).to(device)\n",
        "        )\n",
        "\n",
        "        # TODO: COMPLETE THIS CODE\n",
        "        y_pred = model(seq)\n",
        "\n",
        "        single_loss = criterion(y_pred, labels)\n",
        "        single_loss.backward()\n",
        "        optimizer.step()\n",
        "\n",
        "\n",
        "    if (i + 1) % 50 == 0:\n",
        "        print(f'epoch: {i + 1}/{EPOCHS}\\tloss: {single_loss.item():10.8f}')"
      ],
      "metadata": {
        "colab": {
          "base_uri": "https://localhost:8080/"
        },
        "id": "7JZ8AKmLspLl",
        "outputId": "c77b4997-13d9-479a-b05f-3019d8229fa1"
      },
      "execution_count": 58,
      "outputs": [
        {
          "output_type": "stream",
          "name": "stderr",
          "text": [
            "/usr/local/lib/python3.10/dist-packages/torch/nn/modules/loss.py:535: UserWarning: Using a target size (torch.Size([1, 1])) that is different to the input size (torch.Size([1])). This will likely lead to incorrect results due to broadcasting. Please ensure they have the same size.\n",
            "  return F.mse_loss(input, target, reduction=self.reduction)\n"
          ]
        },
        {
          "output_type": "stream",
          "name": "stdout",
          "text": [
            "epoch: 50/500\tloss: 0.68971539\n",
            "epoch: 100/500\tloss: 0.42775357\n",
            "epoch: 150/500\tloss: 0.23946531\n",
            "epoch: 200/500\tloss: 0.15016960\n",
            "epoch: 250/500\tloss: 0.11325680\n",
            "epoch: 300/500\tloss: 0.09659410\n",
            "epoch: 350/500\tloss: 0.08727871\n",
            "epoch: 400/500\tloss: 0.08071320\n",
            "epoch: 450/500\tloss: 0.07528471\n",
            "epoch: 500/500\tloss: 0.07042279\n"
          ]
        }
      ]
    },
    {
      "cell_type": "markdown",
      "source": [
        "### **Evaluating CustomLSTM**"
      ],
      "metadata": {
        "id": "peIZFSsQ6OR1"
      }
    },
    {
      "cell_type": "code",
      "source": [
        "model.eval()\n",
        "predicts = []\n",
        "\n",
        "for seq, labels in testloader:\n",
        "    seq = seq.to(device).float()\n",
        "\n",
        "    # TODO: COMPLETE THIS CODE\n",
        "    with torch.no_grad():\n",
        "        model.hidden_cell = (\n",
        "            torch.zeros(1, 1, model.hidden_layer_size).to(device),\n",
        "            torch.zeros(1, 1, model.hidden_layer_size).to(device)\n",
        "        )\n",
        "        predicts.append(model(seq).item())\n",
        "\n",
        "predicts = scaler.inverse_transform(np.array(predicts).reshape(-1, 1))\n",
        "print(predicts)\n"
      ],
      "metadata": {
        "id": "ROkA69rZtQ8_",
        "colab": {
          "base_uri": "https://localhost:8080/"
        },
        "outputId": "7bef7b6c-2489-41ed-8ce8-32311353e194"
      },
      "execution_count": 59,
      "outputs": [
        {
          "output_type": "stream",
          "name": "stdout",
          "text": [
            "[[469.02615207]\n",
            " [451.04965773]\n",
            " [420.04224411]\n",
            " [372.94342763]\n",
            " [350.5140667 ]\n",
            " [351.14968298]\n",
            " [347.19793353]\n",
            " [377.99588493]\n",
            " [388.54626315]\n",
            " [405.49058971]\n",
            " [438.86537519]\n",
            " [483.25756112]\n",
            " [515.00998574]\n",
            " [499.87378651]\n",
            " [468.93117222]\n",
            " [423.27143559]\n",
            " [407.89814565]\n",
            " [407.043134  ]\n",
            " [400.86319908]\n",
            " [414.36948848]\n",
            " [434.74436882]\n",
            " [450.13464013]\n",
            " [487.99548498]\n",
            " [540.17911404]\n",
            " [562.40811998]\n",
            " [544.92305857]\n",
            " [515.39330143]\n",
            " [460.24816892]]\n"
          ]
        }
      ]
    },
    {
      "cell_type": "code",
      "source": [
        "fig, ax = plt.subplots(figsize=(12, 4))\n",
        "\n",
        "ax.plot(range(len(y_train)), scaler.inverse_transform(y_train.reshape(-1, 1)), label='Train')\n",
        "\n",
        "predicted_indices = range(len(y_train), len(y_train) + len(predicts))\n",
        "actual_indices = range(len(y_train), len(y_train) + len(y_test))\n",
        "\n",
        "ax.plot(predicted_indices, predicts, marker='.', label='Predict')\n",
        "ax.plot(actual_indices, scaler.inverse_transform(y_test.reshape(-1, 1)), marker='.', label='Actual')\n",
        "\n",
        "ax.set_title(\"Passengers Trend\")\n",
        "ax.set_xlabel(\"Samples\")\n",
        "ax.set_ylabel(\"# of Passengers\")\n",
        "ax.legend()\n",
        "\n",
        "plt.show()"
      ],
      "metadata": {
        "colab": {
          "base_uri": "https://localhost:8080/",
          "height": 410
        },
        "id": "hOwizpwSvbP8",
        "outputId": "d79a63e8-4456-4123-b84d-d03b2ff25bdc"
      },
      "execution_count": 62,
      "outputs": [
        {
          "output_type": "display_data",
          "data": {
            "text/plain": [
              "<Figure size 1200x400 with 1 Axes>"
            ],
            "image/png": "[encoded data removed]"
          },
          "metadata": {}
        }
      ]
    }
  ]
}